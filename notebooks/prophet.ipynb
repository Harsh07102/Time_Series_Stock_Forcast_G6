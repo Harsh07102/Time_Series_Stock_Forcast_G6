{
 "cells": [
  {
   "cell_type": "code",
   "execution_count": null,
   "id": "095df6d1-e541-4ce5-9c12-fb2653bbf8ce",
   "metadata": {},
   "outputs": [],
   "source": [
    "import pandas as pd\n",
    "from prophet import Prophet\n",
    "from sklearn.metrics import mean_absolute_error, mean_squared_error\n",
    "import matplotlib.pyplot as plt\n",
    "import logging\n",
    "\n",
    "logging.basicConfig(level=logging.INFO)\n",
    "logger = logging.getLogger(__name__)\n"
   ]
  },
  {
   "cell_type": "code",
   "execution_count": null,
   "id": "8a6534a2",
   "metadata": {},
   "outputs": [],
   "source": [
    "def prepare_prophet_df(df, date_col='date', target_col='close'):\n",
    "    \"\"\"\n",
    "    Rename columns to fit Prophet's expected format: 'ds' and 'y'.\n",
    "    \"\"\"\n",
    "    logger.info(\"Preparing data for Prophet...\")\n",
    "    prophet_df = df[[date_col, target_col]].rename(columns={date_col: 'ds', target_col: 'y'})\n",
    "    prophet_df['ds'] = pd.to_datetime(prophet_df['ds'])\n",
    "    return prophet_df\n"
   ]
  },
  {
   "cell_type": "code",
   "execution_count": null,
   "id": "cfab666e",
   "metadata": {},
   "outputs": [],
   "source": [
    "def train_prophet_model(df, yearly_seasonality=True, weekly_seasonality=True, daily_seasonality=False):\n",
    "    \"\"\"\n",
    "    Fit a Prophet model to the given dataframe.\n",
    "    \"\"\"\n",
    "    logger.info(\"Training Prophet model...\")\n",
    "    model = Prophet(\n",
    "        yearly_seasonality=yearly_seasonality,\n",
    "        weekly_seasonality=weekly_seasonality,\n",
    "        daily_seasonality=daily_seasonality\n",
    "    )\n",
    "    model.fit(df)\n",
    "    return model\n"
   ]
  },
  {
   "cell_type": "code",
   "execution_count": null,
   "id": "c74ba3c8",
   "metadata": {},
   "outputs": [],
   "source": [
    "def make_forecast(model, periods=30, freq='D'):\n",
    "    \"\"\"\n",
    "    Generate future dataframe and make predictions.\n",
    "    \"\"\"\n",
    "    logger.info(f\"Making forecast for {periods} periods...\")\n",
    "    future = model.make_future_dataframe(periods=periods, freq=freq)\n",
    "    forecast = model.predict(future)\n",
    "    return forecast\n"
   ]
  },
  {
   "cell_type": "code",
   "execution_count": null,
   "id": "387edca0",
   "metadata": {},
   "outputs": [],
   "source": [
    "def evaluate_forecast(actual_df, forecast_df):\n",
    "    \"\"\"\n",
    "    Compare actual vs predicted values and return metrics.\n",
    "    \"\"\"\n",
    "    logger.info(\"Evaluating forecast...\")\n",
    "    merged = pd.merge(actual_df, forecast_df[['ds', 'yhat']], on='ds', how='inner')\n",
    "    mae = mean_absolute_error(merged['y'], merged['yhat'])\n",
    "    rmse = mean_squared_error(merged['y'], merged['yhat'], squared=False)\n",
    "    return {'MAE': mae, 'RMSE': rmse}\n"
   ]
  },
  {
   "cell_type": "code",
   "execution_count": null,
   "id": "2b19fb2e",
   "metadata": {},
   "outputs": [],
   "source": [
    "def plot_forecast(model, forecast, title='Prophet Forecast'):\n",
    "    \"\"\"\n",
    "    Plot forecast with confidence intervals.\n",
    "    \"\"\"\n",
    "    logger.info(\"Plotting forecast...\")\n",
    "    fig = model.plot(forecast)\n",
    "    plt.title(title)\n",
    "    plt.xlabel('Date')\n",
    "    plt.ylabel('Value')\n",
    "    plt.tight_layout()\n",
    "    plt.show()\n"
   ]
  },
  {
   "cell_type": "code",
   "execution_count": null,
   "id": "9e422264",
   "metadata": {},
   "outputs": [],
   "source": [
    "df = pd.read_csv(\"Data/processed/feature_engineered_stock_data.csv\")\n",
    "\n",
    "# Prepare for Prophet: rename columns\n",
    "df_prophet = df.reset_index()[['Date', 'Close']].rename(columns={'Date': 'ds', 'Close': 'y'})\n",
    "df_prophet['ds'] = pd.to_datetime(df_prophet['ds'])\n"
   ]
  },
  {
   "cell_type": "code",
   "execution_count": null,
   "id": "cd60832f",
   "metadata": {},
   "outputs": [],
   "source": [
    "model = Prophet(yearly_seasonality=True, weekly_seasonality=True, daily_seasonality=False)\n",
    "model.fit(df_prophet)\n"
   ]
  },
  {
   "cell_type": "code",
   "execution_count": null,
   "id": "8745dd8c",
   "metadata": {},
   "outputs": [],
   "source": [
    "future = model.make_future_dataframe(periods=60, freq='B')\n",
    "forecast = model.predict(future)\n"
   ]
  },
  {
   "cell_type": "code",
   "execution_count": null,
   "id": "55377a03",
   "metadata": {},
   "outputs": [],
   "source": [
    "merged = pd.merge(\n",
    "    df_prophet[['ds', 'y']],\n",
    "    forecast[['ds', 'yhat']],\n",
    "    on='ds',\n",
    "    how='inner'\n",
    ")\n",
    "\n",
    "\n",
    "merged.rename(columns={'ds': 'Date', 'y': 'Actual', 'yhat': 'Forecast'}, inplace=True)\n"
   ]
  },
  {
   "cell_type": "code",
   "execution_count": null,
   "id": "541b38a6",
   "metadata": {},
   "outputs": [],
   "source": [
    "merged.to_csv(\"prophet_forecast.csv\", index=False)\n",
    "print(\"Prophet forecast saved to 'data/processed/prophet_forecast.csv'\")\n"
   ]
  }
 ],
 "metadata": {
  "kernelspec": {
   "display_name": "Python 3 (ipykernel)",
   "language": "python",
   "name": "python3"
  },
  "language_info": {
   "codemirror_mode": {
    "name": "ipython",
    "version": 3
   },
   "file_extension": ".py",
   "mimetype": "text/x-python",
   "name": "python",
   "nbconvert_exporter": "python",
   "pygments_lexer": "ipython3",
   "version": "3.12.7"
  }
 },
 "nbformat": 4,
 "nbformat_minor": 5
}
