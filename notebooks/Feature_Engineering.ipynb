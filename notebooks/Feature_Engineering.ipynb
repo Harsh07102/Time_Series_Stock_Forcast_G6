{
 "cells": [
  {
   "cell_type": "code",
   "execution_count": 1,
   "id": "35783586-b0ab-492c-994f-b8720b0e6cef",
   "metadata": {},
   "outputs": [],
   "source": [
    "\n",
    "import pandas as pd\n",
    "import numpy as np\n"
   ]
  },
  {
   "cell_type": "code",
   "execution_count": 3,
   "id": "3b5933b1",
   "metadata": {},
   "outputs": [],
   "source": [
    "\n",
    "df = pd.read_csv('processed_stock_data.csv')\n",
    "df.sort_values(['Year', 'Month', 'Day'], inplace=True)\n",
    "\n",
    "\n",
    "df['Date'] = pd.to_datetime(df[['Year', 'Month', 'Day']])\n",
    "df.set_index('Date', inplace=True)\n"
   ]
  },
  {
   "cell_type": "markdown",
   "id": "51cbcbf6",
   "metadata": {},
   "source": [
    "## Lag Features\n"
   ]
  },
  {
   "cell_type": "code",
   "execution_count": 4,
   "id": "337b725d",
   "metadata": {},
   "outputs": [],
   "source": [
    "\n",
    "for lag in [1, 3, 7, 14]:\n",
    "    df[f'Close_lag_{lag}'] = df['Close'].shift(lag)\n"
   ]
  },
  {
   "cell_type": "markdown",
   "id": "1f3d5ecd",
   "metadata": {},
   "source": [
    "## Rolling Statistics"
   ]
  },
  {
   "cell_type": "code",
   "execution_count": 5,
   "id": "a706dd18",
   "metadata": {},
   "outputs": [],
   "source": [
    "\n",
    "for window in [3, 7, 14, 30]:\n",
    "    df[f'Close_roll_mean_{window}'] = df['Close'].rolling(window).mean()\n",
    "    df[f'Close_roll_std_{window}'] = df['Close'].rolling(window).std()\n"
   ]
  },
  {
   "cell_type": "markdown",
   "id": "7d398469",
   "metadata": {},
   "source": [
    "## Volatility  and Momentum\n"
   ]
  },
  {
   "cell_type": "code",
   "execution_count": 6,
   "id": "8418708c",
   "metadata": {},
   "outputs": [],
   "source": [
    "df['daily_return'] = df['Close'].pct_change()\n",
    "df['volatility_7d'] = df['daily_return'].rolling(7).std()\n",
    "df['momentum_7d'] = df['Close'] - df['Close'].shift(7)\n"
   ]
  },
  {
   "cell_type": "markdown",
   "id": "59f96ac9",
   "metadata": {},
   "source": [
    "## Price Range Features"
   ]
  },
  {
   "cell_type": "code",
   "execution_count": 7,
   "id": "1d471a80",
   "metadata": {},
   "outputs": [],
   "source": [
    "df['high_low_range'] = df['High'] - df['Low']\n",
    "df['open_close_range'] = df['Open'] - df['Close']\n"
   ]
  },
  {
   "cell_type": "markdown",
   "id": "3e9fccb8",
   "metadata": {},
   "source": [
    "## Final Cleanup"
   ]
  },
  {
   "cell_type": "code",
   "execution_count": 10,
   "id": "c6048bb5",
   "metadata": {},
   "outputs": [
    {
     "name": "stdout",
     "output_type": "stream",
     "text": [
      "Feature engineering complete. Saved to 'data/processed/feature_engineered_stock_data.csv'\n"
     ]
    }
   ],
   "source": [
    "\n",
    "df.dropna(inplace=True)\n",
    "\n",
    "df.to_csv('feature_engineered_stock_data.csv')\n",
    "print(\"Feature engineering complete. Saved to 'data/processed/feature_engineered_stock_data.csv' \")\n"
   ]
  }
 ],
 "metadata": {
  "kernelspec": {
   "display_name": "Python 3 (ipykernel)",
   "language": "python",
   "name": "python3"
  },
  "language_info": {
   "codemirror_mode": {
    "name": "ipython",
    "version": 3
   },
   "file_extension": ".py",
   "mimetype": "text/x-python",
   "name": "python",
   "nbconvert_exporter": "python",
   "pygments_lexer": "ipython3",
   "version": "3.9.6"
  }
 },
 "nbformat": 4,
 "nbformat_minor": 5
}
