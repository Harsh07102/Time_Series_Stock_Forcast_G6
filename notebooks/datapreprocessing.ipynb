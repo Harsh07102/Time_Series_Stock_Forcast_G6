{
 "cells": [
  {
   "cell_type": "code",
   "execution_count": 1,
   "id": "de69a3ef-2f64-482b-8c72-b34b79b1ffbe",
   "metadata": {},
   "outputs": [],
   "source": [
    "import pandas as pd\n",
    "import numpy as np \n"
   ]
  },
  {
   "cell_type": "code",
   "execution_count": 3,
   "id": "e016012e-d07e-4839-8529-04be697d6866",
   "metadata": {},
   "outputs": [],
   "source": [
    "df= pd.read_csv(\"ITC_Stock_Data.csv\")"
   ]
  },
  {
   "cell_type": "code",
   "execution_count": 61,
   "id": "44786ddd-0955-44b8-84eb-3a068265009a",
   "metadata": {},
   "outputs": [
    {
     "data": {
      "text/html": [
       "<div>\n",
       "<style scoped>\n",
       "    .dataframe tbody tr th:only-of-type {\n",
       "        vertical-align: middle;\n",
       "    }\n",
       "\n",
       "    .dataframe tbody tr th {\n",
       "        vertical-align: top;\n",
       "    }\n",
       "\n",
       "    .dataframe thead th {\n",
       "        text-align: right;\n",
       "    }\n",
       "</style>\n",
       "<table border=\"1\" class=\"dataframe\">\n",
       "  <thead>\n",
       "    <tr style=\"text-align: right;\">\n",
       "      <th></th>\n",
       "      <th>Date</th>\n",
       "      <th>Open</th>\n",
       "      <th>High</th>\n",
       "      <th>Low</th>\n",
       "      <th>Close</th>\n",
       "      <th>Volume</th>\n",
       "    </tr>\n",
       "  </thead>\n",
       "  <tbody>\n",
       "    <tr>\n",
       "      <th>0</th>\n",
       "      <td>NaN</td>\n",
       "      <td>ITC.NS</td>\n",
       "      <td>ITC.NS</td>\n",
       "      <td>ITC.NS</td>\n",
       "      <td>ITC.NS</td>\n",
       "      <td>ITC.NS</td>\n",
       "    </tr>\n",
       "    <tr>\n",
       "      <th>1</th>\n",
       "      <td>2020-01-01</td>\n",
       "      <td>186.95893710821164</td>\n",
       "      <td>186.95893710821164</td>\n",
       "      <td>185.7835875755689</td>\n",
       "      <td>186.56715393066406</td>\n",
       "      <td>4208837</td>\n",
       "    </tr>\n",
       "    <tr>\n",
       "      <th>2</th>\n",
       "      <td>2020-01-02</td>\n",
       "      <td>186.64550857299756</td>\n",
       "      <td>188.80031610931871</td>\n",
       "      <td>186.5671591090776</td>\n",
       "      <td>187.9384002685547</td>\n",
       "      <td>8402979</td>\n",
       "    </tr>\n",
       "    <tr>\n",
       "      <th>3</th>\n",
       "      <td>2020-01-03</td>\n",
       "      <td>188.83950069915323</td>\n",
       "      <td>188.83950069915323</td>\n",
       "      <td>186.4888015203256</td>\n",
       "      <td>186.88058471679688</td>\n",
       "      <td>9284478</td>\n",
       "    </tr>\n",
       "    <tr>\n",
       "      <th>4</th>\n",
       "      <td>2020-01-06</td>\n",
       "      <td>186.0970311303952</td>\n",
       "      <td>186.72388667914208</td>\n",
       "      <td>184.13811501323315</td>\n",
       "      <td>184.2164764404297</td>\n",
       "      <td>7636617</td>\n",
       "    </tr>\n",
       "  </tbody>\n",
       "</table>\n",
       "</div>"
      ],
      "text/plain": [
       "         Date                Open                High                 Low  \\\n",
       "0         NaN              ITC.NS              ITC.NS              ITC.NS   \n",
       "1  2020-01-01  186.95893710821164  186.95893710821164   185.7835875755689   \n",
       "2  2020-01-02  186.64550857299756  188.80031610931871   186.5671591090776   \n",
       "3  2020-01-03  188.83950069915323  188.83950069915323   186.4888015203256   \n",
       "4  2020-01-06   186.0970311303952  186.72388667914208  184.13811501323315   \n",
       "\n",
       "                Close   Volume  \n",
       "0              ITC.NS   ITC.NS  \n",
       "1  186.56715393066406  4208837  \n",
       "2   187.9384002685547  8402979  \n",
       "3  186.88058471679688  9284478  \n",
       "4   184.2164764404297  7636617  "
      ]
     },
     "execution_count": 61,
     "metadata": {},
     "output_type": "execute_result"
    }
   ],
   "source": [
    "df.head()"
   ]
  },
  {
   "cell_type": "code",
   "execution_count": 4,
   "id": "27b4145b-b9f9-4009-9815-23c5a58377d5",
   "metadata": {},
   "outputs": [],
   "source": [
    "df = df.drop(index=0).reset_index(drop=True)"
   ]
  },
  {
   "cell_type": "code",
   "execution_count": 5,
   "id": "bd489296-c48d-4eb0-bef0-3a0d37697cd9",
   "metadata": {},
   "outputs": [
    {
     "data": {
      "text/html": [
       "<div>\n",
       "<style scoped>\n",
       "    .dataframe tbody tr th:only-of-type {\n",
       "        vertical-align: middle;\n",
       "    }\n",
       "\n",
       "    .dataframe tbody tr th {\n",
       "        vertical-align: top;\n",
       "    }\n",
       "\n",
       "    .dataframe thead th {\n",
       "        text-align: right;\n",
       "    }\n",
       "</style>\n",
       "<table border=\"1\" class=\"dataframe\">\n",
       "  <thead>\n",
       "    <tr style=\"text-align: right;\">\n",
       "      <th></th>\n",
       "      <th>Date</th>\n",
       "      <th>Open</th>\n",
       "      <th>High</th>\n",
       "      <th>Low</th>\n",
       "      <th>Close</th>\n",
       "      <th>Volume</th>\n",
       "    </tr>\n",
       "  </thead>\n",
       "  <tbody>\n",
       "    <tr>\n",
       "      <th>0</th>\n",
       "      <td>2020-01-01</td>\n",
       "      <td>186.95893710821164</td>\n",
       "      <td>186.95893710821164</td>\n",
       "      <td>185.7835875755689</td>\n",
       "      <td>186.56715393066406</td>\n",
       "      <td>4208837</td>\n",
       "    </tr>\n",
       "    <tr>\n",
       "      <th>1</th>\n",
       "      <td>2020-01-02</td>\n",
       "      <td>186.64550857299756</td>\n",
       "      <td>188.80031610931871</td>\n",
       "      <td>186.5671591090776</td>\n",
       "      <td>187.9384002685547</td>\n",
       "      <td>8402979</td>\n",
       "    </tr>\n",
       "    <tr>\n",
       "      <th>2</th>\n",
       "      <td>2020-01-03</td>\n",
       "      <td>188.83950069915323</td>\n",
       "      <td>188.83950069915323</td>\n",
       "      <td>186.4888015203256</td>\n",
       "      <td>186.88058471679688</td>\n",
       "      <td>9284478</td>\n",
       "    </tr>\n",
       "    <tr>\n",
       "      <th>3</th>\n",
       "      <td>2020-01-06</td>\n",
       "      <td>186.0970311303952</td>\n",
       "      <td>186.72388667914208</td>\n",
       "      <td>184.13811501323315</td>\n",
       "      <td>184.2164764404297</td>\n",
       "      <td>7636617</td>\n",
       "    </tr>\n",
       "    <tr>\n",
       "      <th>4</th>\n",
       "      <td>2020-01-07</td>\n",
       "      <td>184.96086289811265</td>\n",
       "      <td>186.41045365672494</td>\n",
       "      <td>183.82469393696377</td>\n",
       "      <td>184.41236877441406</td>\n",
       "      <td>8416741</td>\n",
       "    </tr>\n",
       "  </tbody>\n",
       "</table>\n",
       "</div>"
      ],
      "text/plain": [
       "         Date                Open                High                 Low  \\\n",
       "0  2020-01-01  186.95893710821164  186.95893710821164   185.7835875755689   \n",
       "1  2020-01-02  186.64550857299756  188.80031610931871   186.5671591090776   \n",
       "2  2020-01-03  188.83950069915323  188.83950069915323   186.4888015203256   \n",
       "3  2020-01-06   186.0970311303952  186.72388667914208  184.13811501323315   \n",
       "4  2020-01-07  184.96086289811265  186.41045365672494  183.82469393696377   \n",
       "\n",
       "                Close   Volume  \n",
       "0  186.56715393066406  4208837  \n",
       "1   187.9384002685547  8402979  \n",
       "2  186.88058471679688  9284478  \n",
       "3   184.2164764404297  7636617  \n",
       "4  184.41236877441406  8416741  "
      ]
     },
     "execution_count": 5,
     "metadata": {},
     "output_type": "execute_result"
    }
   ],
   "source": [
    "df.head()"
   ]
  },
  {
   "cell_type": "code",
   "execution_count": 35,
   "id": "8630fcff-4e22-481f-9b96-83c978d5fa56",
   "metadata": {},
   "outputs": [
    {
     "data": {
      "text/plain": [
       "Date      0\n",
       "Open      0\n",
       "High      0\n",
       "Low       0\n",
       "Close     0\n",
       "Volume    0\n",
       "dtype: int64"
      ]
     },
     "execution_count": 35,
     "metadata": {},
     "output_type": "execute_result"
    }
   ],
   "source": [
    "df.isnull().sum()"
   ]
  },
  {
   "cell_type": "code",
   "execution_count": 6,
   "id": "725be5c3-6fe7-4630-8535-d98d409fffa7",
   "metadata": {},
   "outputs": [
    {
     "data": {
      "text/html": [
       "<div>\n",
       "<style scoped>\n",
       "    .dataframe tbody tr th:only-of-type {\n",
       "        vertical-align: middle;\n",
       "    }\n",
       "\n",
       "    .dataframe tbody tr th {\n",
       "        vertical-align: top;\n",
       "    }\n",
       "\n",
       "    .dataframe thead th {\n",
       "        text-align: right;\n",
       "    }\n",
       "</style>\n",
       "<table border=\"1\" class=\"dataframe\">\n",
       "  <thead>\n",
       "    <tr style=\"text-align: right;\">\n",
       "      <th></th>\n",
       "      <th>Date</th>\n",
       "      <th>Open</th>\n",
       "      <th>High</th>\n",
       "      <th>Low</th>\n",
       "      <th>Close</th>\n",
       "      <th>Volume</th>\n",
       "    </tr>\n",
       "  </thead>\n",
       "  <tbody>\n",
       "    <tr>\n",
       "      <th>count</th>\n",
       "      <td>992</td>\n",
       "      <td>992</td>\n",
       "      <td>992</td>\n",
       "      <td>992</td>\n",
       "      <td>992</td>\n",
       "      <td>992</td>\n",
       "    </tr>\n",
       "    <tr>\n",
       "      <th>unique</th>\n",
       "      <td>992</td>\n",
       "      <td>992</td>\n",
       "      <td>990</td>\n",
       "      <td>991</td>\n",
       "      <td>929</td>\n",
       "      <td>992</td>\n",
       "    </tr>\n",
       "    <tr>\n",
       "      <th>top</th>\n",
       "      <td>2020-01-01</td>\n",
       "      <td>186.95893710821164</td>\n",
       "      <td>303.16256154744883</td>\n",
       "      <td>418.41707417462834</td>\n",
       "      <td>411.5838623046875</td>\n",
       "      <td>4208837</td>\n",
       "    </tr>\n",
       "    <tr>\n",
       "      <th>freq</th>\n",
       "      <td>1</td>\n",
       "      <td>1</td>\n",
       "      <td>2</td>\n",
       "      <td>2</td>\n",
       "      <td>3</td>\n",
       "      <td>1</td>\n",
       "    </tr>\n",
       "  </tbody>\n",
       "</table>\n",
       "</div>"
      ],
      "text/plain": [
       "              Date                Open                High  \\\n",
       "count          992                 992                 992   \n",
       "unique         992                 992                 990   \n",
       "top     2020-01-01  186.95893710821164  303.16256154744883   \n",
       "freq             1                   1                   2   \n",
       "\n",
       "                       Low              Close   Volume  \n",
       "count                  992                992      992  \n",
       "unique                 991                929      992  \n",
       "top     418.41707417462834  411.5838623046875  4208837  \n",
       "freq                     2                  3        1  "
      ]
     },
     "execution_count": 6,
     "metadata": {},
     "output_type": "execute_result"
    }
   ],
   "source": [
    "df.describe()\n"
   ]
  },
  {
   "cell_type": "code",
   "execution_count": 7,
   "id": "0caec79e-935c-4845-83bc-cbc5e8bc69a9",
   "metadata": {},
   "outputs": [
    {
     "data": {
      "text/plain": [
       "Date      object\n",
       "Open      object\n",
       "High      object\n",
       "Low       object\n",
       "Close     object\n",
       "Volume    object\n",
       "dtype: object"
      ]
     },
     "execution_count": 7,
     "metadata": {},
     "output_type": "execute_result"
    }
   ],
   "source": [
    "df.dtypes"
   ]
  },
  {
   "cell_type": "markdown",
   "id": "6790de58-6f70-473e-9aa7-88bdc033bdf0",
   "metadata": {},
   "source": [
    "### Here we clearly see that the there was no missing values but the data types was unarranged so now arranging the data types \n"
   ]
  },
  {
   "cell_type": "code",
   "execution_count": 8,
   "id": "a88b8571-fdec-4953-928c-ca9214d48b5a",
   "metadata": {},
   "outputs": [
    {
     "name": "stdout",
     "output_type": "stream",
     "text": [
      "Date      datetime64[ns]\n",
      "Open             float64\n",
      "High             float64\n",
      "Low              float64\n",
      "Close            float64\n",
      "Volume             int64\n",
      "dtype: object\n"
     ]
    }
   ],
   "source": [
    "# Convert columns one by one\n",
    "df[\"Date\"] = pd.to_datetime(df[\"Date\"], errors=\"coerce\")        #  Date → datetime\n",
    "df[\"Open\"] = pd.to_numeric(df[\"Open\"], errors=\"coerce\")         # Open → float\n",
    "df[\"High\"] = pd.to_numeric(df[\"High\"], errors=\"coerce\")         # High → float\n",
    "df[\"Low\"] = pd.to_numeric(df[\"Low\"], errors=\"coerce\")           #  Low → float\n",
    "df[\"Close\"] = pd.to_numeric(df[\"Close\"], errors=\"coerce\")       #  Close → float\n",
    "df[\"Volume\"] = pd.to_numeric(df[\"Volume\"], errors=\"coerce\")     # Volume → integer\n",
    "\n",
    "\n",
    "print(df.dtypes)\n"
   ]
  },
  {
   "cell_type": "code",
   "execution_count": 73,
   "id": "e389e987-eee8-4c48-9e4e-0f28b6a38798",
   "metadata": {},
   "outputs": [],
   "source": [
    "df[\"Date\"] = pd.to_datetime(df[\"Date\"], errors=\"coerce\")\n",
    "\n",
    "\n",
    "df[\"Year\"] = df[\"Date\"].dt.year\n",
    "df[\"Month\"] = df[\"Date\"].dt.month\n",
    "df[\"Day\"] = df[\"Date\"].dt.day\n",
    "df[\"Weekday\"] = df[\"Date\"].dt.weekday  \n",
    "df[\"Quarter\"] = df[\"Date\"].dt.quarter\n",
    "df[\"DayOfYear\"] = df[\"Date\"].dt.dayofyear\n",
    "\n",
    "\n",
    "df = df.sort_values(\"Date\").reset_index(drop=True)\n",
    "\n",
    "\n",
    "df = df.drop(columns=[\"Date\"])"
   ]
  },
  {
   "cell_type": "code",
   "execution_count": 75,
   "id": "85a49f9e-d0f5-4968-ac52-616023ce21d8",
   "metadata": {},
   "outputs": [
    {
     "data": {
      "text/html": [
       "<div>\n",
       "<style scoped>\n",
       "    .dataframe tbody tr th:only-of-type {\n",
       "        vertical-align: middle;\n",
       "    }\n",
       "\n",
       "    .dataframe tbody tr th {\n",
       "        vertical-align: top;\n",
       "    }\n",
       "\n",
       "    .dataframe thead th {\n",
       "        text-align: right;\n",
       "    }\n",
       "</style>\n",
       "<table border=\"1\" class=\"dataframe\">\n",
       "  <thead>\n",
       "    <tr style=\"text-align: right;\">\n",
       "      <th></th>\n",
       "      <th>Open</th>\n",
       "      <th>High</th>\n",
       "      <th>Low</th>\n",
       "      <th>Close</th>\n",
       "      <th>Volume</th>\n",
       "      <th>Year</th>\n",
       "      <th>Month</th>\n",
       "      <th>Day</th>\n",
       "      <th>Weekday</th>\n",
       "      <th>Quarter</th>\n",
       "      <th>DayOfYear</th>\n",
       "    </tr>\n",
       "  </thead>\n",
       "  <tbody>\n",
       "    <tr>\n",
       "      <th>0</th>\n",
       "      <td>186.958937</td>\n",
       "      <td>186.958937</td>\n",
       "      <td>185.783588</td>\n",
       "      <td>186.567154</td>\n",
       "      <td>4208837</td>\n",
       "      <td>2020</td>\n",
       "      <td>1</td>\n",
       "      <td>1</td>\n",
       "      <td>2</td>\n",
       "      <td>1</td>\n",
       "      <td>1</td>\n",
       "    </tr>\n",
       "    <tr>\n",
       "      <th>1</th>\n",
       "      <td>186.645509</td>\n",
       "      <td>188.800316</td>\n",
       "      <td>186.567159</td>\n",
       "      <td>187.938400</td>\n",
       "      <td>8402979</td>\n",
       "      <td>2020</td>\n",
       "      <td>1</td>\n",
       "      <td>2</td>\n",
       "      <td>3</td>\n",
       "      <td>1</td>\n",
       "      <td>2</td>\n",
       "    </tr>\n",
       "    <tr>\n",
       "      <th>2</th>\n",
       "      <td>188.839501</td>\n",
       "      <td>188.839501</td>\n",
       "      <td>186.488802</td>\n",
       "      <td>186.880585</td>\n",
       "      <td>9284478</td>\n",
       "      <td>2020</td>\n",
       "      <td>1</td>\n",
       "      <td>3</td>\n",
       "      <td>4</td>\n",
       "      <td>1</td>\n",
       "      <td>3</td>\n",
       "    </tr>\n",
       "    <tr>\n",
       "      <th>3</th>\n",
       "      <td>186.097031</td>\n",
       "      <td>186.723887</td>\n",
       "      <td>184.138115</td>\n",
       "      <td>184.216476</td>\n",
       "      <td>7636617</td>\n",
       "      <td>2020</td>\n",
       "      <td>1</td>\n",
       "      <td>6</td>\n",
       "      <td>0</td>\n",
       "      <td>1</td>\n",
       "      <td>6</td>\n",
       "    </tr>\n",
       "    <tr>\n",
       "      <th>4</th>\n",
       "      <td>184.960863</td>\n",
       "      <td>186.410454</td>\n",
       "      <td>183.824694</td>\n",
       "      <td>184.412369</td>\n",
       "      <td>8416741</td>\n",
       "      <td>2020</td>\n",
       "      <td>1</td>\n",
       "      <td>7</td>\n",
       "      <td>1</td>\n",
       "      <td>1</td>\n",
       "      <td>7</td>\n",
       "    </tr>\n",
       "  </tbody>\n",
       "</table>\n",
       "</div>"
      ],
      "text/plain": [
       "         Open        High         Low       Close   Volume  Year  Month  Day  \\\n",
       "0  186.958937  186.958937  185.783588  186.567154  4208837  2020      1    1   \n",
       "1  186.645509  188.800316  186.567159  187.938400  8402979  2020      1    2   \n",
       "2  188.839501  188.839501  186.488802  186.880585  9284478  2020      1    3   \n",
       "3  186.097031  186.723887  184.138115  184.216476  7636617  2020      1    6   \n",
       "4  184.960863  186.410454  183.824694  184.412369  8416741  2020      1    7   \n",
       "\n",
       "   Weekday  Quarter  DayOfYear  \n",
       "0        2        1          1  \n",
       "1        3        1          2  \n",
       "2        4        1          3  \n",
       "3        0        1          6  \n",
       "4        1        1          7  "
      ]
     },
     "execution_count": 10,
     "metadata": {},
     "output_type": "execute_result"
    }
   ],
   "source": [
    "df.head()"
   ]
  },
  {
   "cell_type": "markdown",
   "id": "2fc6dd03-f37a-4d83-a821-748e3418a431",
   "metadata": {},
   "source": [
    "### Saving In other CSV file "
   ]
  },
  {
   "cell_type": "code",
   "execution_count": 12,
   "id": "d9ef5c22",
   "metadata": {},
   "outputs": [
    {
     "name": "stdout",
     "output_type": "stream",
     "text": [
      "Detected 68 potential outliers.\n"
     ]
    }
   ],
   "source": [
    "df = pd.read_csv('processed_stock_data.csv')\n",
    "\n",
    "num_cols = ['Open', 'High', 'Low', 'Close', 'Volume']\n",
    "\n",
    "def detect_outliers_iqr(data, cols):\n",
    "    outlier_indices = set()\n",
    "    for col in cols:\n",
    "        Q1 = data[col].quantile(0.25)\n",
    "        Q3 = data[col].quantile(0.75)\n",
    "        IQR = Q3 - Q1\n",
    "        lower = Q1 - 1.5 * IQR\n",
    "        upper = Q3 + 1.5 * IQR\n",
    "        outliers = data[(data[col] < lower) | (data[col] > upper)].index\n",
    "        outlier_indices.update(outliers)\n",
    "    return list(outlier_indices)\n",
    "\n",
    "outliers = detect_outliers_iqr(df, num_cols)\n",
    "print(f\"Detected {len(outliers)} potential outliers.\")\n"
   ]
  },
  {
   "cell_type": "markdown",
   "id": "4f28a64c",
   "metadata": {},
   "source": [
    "## Removing Outliers"
   ]
  },
  {
   "cell_type": "code",
   "execution_count": 13,
   "id": "bd7423ee",
   "metadata": {},
   "outputs": [
    {
     "name": "stdout",
     "output_type": "stream",
     "text": [
      "After outlier removal: 924 rows remain.\n"
     ]
    }
   ],
   "source": [
    "\n",
    "df_cleaned_outliers = df.drop(outliers).reset_index(drop=True)\n",
    "print(f\"After outlier removal: {df_cleaned_outliers.shape[0]} rows remain.\")\n"
   ]
  },
  {
   "cell_type": "markdown",
   "id": "4192d671",
   "metadata": {},
   "source": [
    "## Finding Duplicates"
   ]
  },
  {
   "cell_type": "code",
   "execution_count": 14,
   "id": "c53f1d24",
   "metadata": {},
   "outputs": [
    {
     "name": "stdout",
     "output_type": "stream",
     "text": [
      "Found 0 duplicate rows.\n"
     ]
    }
   ],
   "source": [
    "\n",
    "duplicate_mask = df_cleaned_outliers.duplicated()\n",
    "duplicates = df_cleaned_outliers[duplicate_mask]\n",
    "print(f\"Found {duplicates.shape[0]} duplicate rows.\")\n"
   ]
  },
  {
   "cell_type": "code",
   "execution_count": 16,
   "id": "eb0f3a2a",
   "metadata": {},
   "outputs": [],
   "source": [
    "df.to_csv('processed_stock_data.csv', index=False)\n"
   ]
  }
 ],
 "metadata": {
  "kernelspec": {
   "display_name": "Python 3 (ipykernel)",
   "language": "python",
   "name": "python3"
  },
  "language_info": {
   "codemirror_mode": {
    "name": "ipython",
    "version": 3
   },
   "file_extension": ".py",
   "mimetype": "text/x-python",
   "name": "python",
   "nbconvert_exporter": "python",
   "pygments_lexer": "ipython3",
   "version": "3.9.6"
  }
 },
 "nbformat": 4,
 "nbformat_minor": 5
}
